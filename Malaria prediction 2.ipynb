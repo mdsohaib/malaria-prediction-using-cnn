{
 "cells": [
  {
   "cell_type": "markdown",
   "metadata": {},
   "source": [
    "# Convolutional Neural Network\n",
    "\n",
    "# Installing Theano\n",
    "# pip install --upgrade --no-deps git+git://github.com/Theano/Theano.git\n",
    "\n",
    "# Installing Tensorflow\n",
    "# Install Tensorflow from the website: https://www.tensorflow.org/versions/r0.12/get_started/os_setup.html\n",
    "\n",
    "# Installing Keras\n",
    "# pip install --upgrade keras\n",
    "\n",
    "# Part 1 - Building the CNN\n",
    "\n",
    "# Importing the Keras libraries and packages\n",
    "from keras.models import Sequential\n",
    "from keras.layers import Convolution2D\n",
    "from keras.layers import MaxPooling2D\n",
    "from keras.layers import Flatten\n",
    "from keras.layers import Dense\n",
    "\n",
    "# Initialising the CNN\n",
    "classifier = Sequential()\n",
    "\n",
    "# Step 1 - Convolution\n",
    "classifier.add(Convolution2D(32, 3, 3, input_shape = (64, 64, 3), activation = 'relu'))\n",
    "\n",
    "# Step 2 - Pooling\n",
    "classifier.add(MaxPooling2D(pool_size = (2, 2)))\n",
    "\n",
    "# Adding a second convolutional layer\n",
    "classifier.add(Convolution2D(32, 3, 3, activation = 'relu'))\n",
    "classifier.add(MaxPooling2D(pool_size = (2, 2)))\n",
    "\n",
    "# Step 3 - Flattening\n",
    "classifier.add(Flatten())\n",
    "\n",
    "# Step 4 - Full connection\n",
    "classifier.add(Dense(output_dim = 128, activation = 'relu'))\n",
    "classifier.add(Dense(output_dim = 1, activation = 'sigmoid'))\n",
    "\n",
    "# Compiling the CNN\n",
    "classifier.compile(optimizer = 'adam', loss = 'binary_crossentropy', metrics = ['accuracy'])\n",
    "\n",
    "# Part 2 - Fitting the CNN to the images\n",
    "\n",
    "from keras.preprocessing.image import ImageDataGenerator\n",
    "\n",
    "train_datagen = ImageDataGenerator(rescale = 1./255,\n",
    "                                   shear_range = 0.2,\n",
    "                                   zoom_range = 0.2,\n",
    "                                   horizontal_flip = True)\n",
    "\n",
    "test_datagen = ImageDataGenerator(rescale = 1./255)\n",
    "\n",
    "training_set = train_datagen.flow_from_directory('dataset/training_set',\n",
    "                                                 target_size = (64, 64),\n",
    "                                                 batch_size = 32,\n",
    "                                                 class_mode = 'binary')\n",
    "\n",
    "test_set = test_datagen.flow_from_directory('dataset/test_set',\n",
    "                                            target_size = (64, 64),\n",
    "                                            batch_size = 32,\n",
    "                                            class_mode = 'binary')\n",
    "\n",
    "classifier.fit_generator(training_set,\n",
    "                         samples_per_epoch = 8000,\n",
    "                         nb_epoch = 25,\n",
    "                         validation_data = test_set,\n",
    "                         nb_val_samples = 2000)\n",
    "\n"
   ]
  },
  {
   "cell_type": "code",
   "execution_count": 47,
   "metadata": {},
   "outputs": [],
   "source": [
    "from keras.models import Sequential\n",
    "from keras.layers import Convolution2D\n",
    "from keras.layers import MaxPooling2D\n",
    "from keras.layers import Flatten\n",
    "from keras.layers import Dense\n",
    "import numpy as np\n",
    "from keras.preprocessing import image\n",
    "import warnings\n",
    "warnings.filterwarnings('ignore')"
   ]
  },
  {
   "cell_type": "code",
   "execution_count": 48,
   "metadata": {},
   "outputs": [],
   "source": [
    "classifier = Sequential()"
   ]
  },
  {
   "cell_type": "code",
   "execution_count": 49,
   "metadata": {},
   "outputs": [],
   "source": [
    "# Step 1 - Convolution\n",
    "classifier.add(Convolution2D(32, 3, 3, input_shape = (64, 64, 3), activation = 'relu'))\n",
    "\n",
    "# Step 2 - Pooling\n",
    "classifier.add(MaxPooling2D(pool_size = (2, 2)))\n",
    "\n",
    "# Adding a second convolutional layer\n",
    "classifier.add(Convolution2D(32, 3, 3, activation = 'relu'))\n",
    "classifier.add(MaxPooling2D(pool_size = (2, 2)))\n",
    "\n",
    "# Step 3 - Flattening\n",
    "classifier.add(Flatten())\n",
    "\n",
    "# Step 4 - Full connection\n",
    "classifier.add(Dense(output_dim = 128, activation = 'relu'))\n",
    "classifier.add(Dense(output_dim = 1, activation = 'sigmoid'))"
   ]
  },
  {
   "cell_type": "code",
   "execution_count": 50,
   "metadata": {},
   "outputs": [],
   "source": [
    "\n",
    "# Compiling the CNN\n",
    "classifier.compile(optimizer = 'adam', loss = 'binary_crossentropy', metrics = ['accuracy'])"
   ]
  },
  {
   "cell_type": "code",
   "execution_count": 51,
   "metadata": {},
   "outputs": [],
   "source": [
    "from keras.preprocessing.image import ImageDataGenerator\n",
    "\n",
    "train_datagen = ImageDataGenerator(rescale = 1./255,\n",
    "                                   shear_range = 0.2,\n",
    "                                   zoom_range = 0.2,\n",
    "                                   horizontal_flip = True)\n",
    "\n",
    "test_datagen = ImageDataGenerator(rescale = 1./255)\n"
   ]
  },
  {
   "cell_type": "code",
   "execution_count": 6,
   "metadata": {},
   "outputs": [
    {
     "name": "stdout",
     "output_type": "stream",
     "text": [
      "Found 22046 images belonging to 2 classes.\n"
     ]
    }
   ],
   "source": [
    "\n",
    "training_set = train_datagen.flow_from_directory('cell_images/train',\n",
    "                                                 target_size = (64, 64),\n",
    "                                                 batch_size = 32,\n",
    "                                                 class_mode = 'binary')\n"
   ]
  },
  {
   "cell_type": "code",
   "execution_count": 8,
   "metadata": {},
   "outputs": [
    {
     "name": "stdout",
     "output_type": "stream",
     "text": [
      "Found 5512 images belonging to 2 classes.\n"
     ]
    }
   ],
   "source": [
    "\n",
    "test_set = test_datagen.flow_from_directory('cell_images/valid',\n",
    "                                            target_size = (64, 64),\n",
    "                                            batch_size = 32,\n",
    "                                            class_mode = 'binary')\n",
    "\n"
   ]
  },
  {
   "cell_type": "code",
   "execution_count": 9,
   "metadata": {},
   "outputs": [
    {
     "name": "stderr",
     "output_type": "stream",
     "text": [
      "C:\\Users\\md sohaib uddin\\AppData\\Local\\Continuum\\anaconda3\\lib\\site-packages\\ipykernel_launcher.py:5: UserWarning: The semantics of the Keras 2 argument `steps_per_epoch` is not the same as the Keras 1 argument `samples_per_epoch`. `steps_per_epoch` is the number of batches to draw from the generator at each epoch. Basically steps_per_epoch = samples_per_epoch/batch_size. Similarly `nb_val_samples`->`validation_steps` and `val_samples`->`steps` arguments have changed. Update your method calls accordingly.\n",
      "  \"\"\"\n",
      "C:\\Users\\md sohaib uddin\\AppData\\Local\\Continuum\\anaconda3\\lib\\site-packages\\ipykernel_launcher.py:5: UserWarning: Update your `fit_generator` call to the Keras 2 API: `fit_generator(<keras.pre..., validation_data=<keras.pre..., steps_per_epoch=250, epochs=25, validation_steps=2000)`\n",
      "  \"\"\"\n"
     ]
    },
    {
     "name": "stdout",
     "output_type": "stream",
     "text": [
      "Epoch 1/25\n",
      "250/250 [==============================] - 124s 498ms/step - loss: 0.6854 - accuracy: 0.5501 - val_loss: 0.6402 - val_accuracy: 0.5810\n",
      "Epoch 2/25\n",
      "250/250 [==============================] - 124s 495ms/step - loss: 0.6674 - accuracy: 0.5951 - val_loss: 0.8906 - val_accuracy: 0.5620\n",
      "Epoch 3/25\n",
      "250/250 [==============================] - 124s 497ms/step - loss: 0.6541 - accuracy: 0.6189 - val_loss: 0.6186 - val_accuracy: 0.6280\n",
      "Epoch 4/25\n",
      "250/250 [==============================] - 109s 437ms/step - loss: 0.6422 - accuracy: 0.6258 - val_loss: 0.6061 - val_accuracy: 0.6782\n",
      "Epoch 5/25\n",
      "250/250 [==============================] - 121s 483ms/step - loss: 0.6326 - accuracy: 0.6401 - val_loss: 0.6112 - val_accuracy: 0.6944\n",
      "Epoch 6/25\n",
      "250/250 [==============================] - 127s 506ms/step - loss: 0.5640 - accuracy: 0.7105 - val_loss: 0.4286 - val_accuracy: 0.7280\n",
      "Epoch 7/25\n",
      "250/250 [==============================] - 151s 605ms/step - loss: 0.4976 - accuracy: 0.7559 - val_loss: 0.4055 - val_accuracy: 0.7989\n",
      "Epoch 8/25\n",
      "250/250 [==============================] - 136s 545ms/step - loss: 0.4284 - accuracy: 0.8017 - val_loss: 0.2330 - val_accuracy: 0.8274\n",
      "Epoch 9/25\n",
      "250/250 [==============================] - 137s 550ms/step - loss: 0.3621 - accuracy: 0.8402 - val_loss: 0.3700 - val_accuracy: 0.8720\n",
      "Epoch 10/25\n",
      "250/250 [==============================] - 145s 580ms/step - loss: 0.3085 - accuracy: 0.8733 - val_loss: 0.2210 - val_accuracy: 0.9096\n",
      "Epoch 11/25\n",
      "250/250 [==============================] - 160s 641ms/step - loss: 0.2634 - accuracy: 0.8969 - val_loss: 0.3818 - val_accuracy: 0.8753\n",
      "Epoch 12/25\n",
      "250/250 [==============================] - 161s 644ms/step - loss: 0.2483 - accuracy: 0.9075 - val_loss: 0.2393 - val_accuracy: 0.9288\n",
      "Epoch 13/25\n",
      "250/250 [==============================] - 160s 639ms/step - loss: 0.2374 - accuracy: 0.9134 - val_loss: 0.1094 - val_accuracy: 0.9131\n",
      "Epoch 14/25\n",
      "250/250 [==============================] - 157s 626ms/step - loss: 0.2293 - accuracy: 0.9156 - val_loss: 0.2000 - val_accuracy: 0.9419\n",
      "Epoch 15/25\n",
      "250/250 [==============================] - 163s 653ms/step - loss: 0.2217 - accuracy: 0.9156 - val_loss: 0.1554 - val_accuracy: 0.9197\n",
      "Epoch 16/25\n",
      "250/250 [==============================] - 163s 652ms/step - loss: 0.2053 - accuracy: 0.9279 - val_loss: 0.2229 - val_accuracy: 0.9454\n",
      "Epoch 17/25\n",
      "250/250 [==============================] - 154s 616ms/step - loss: 0.1935 - accuracy: 0.9308 - val_loss: 0.0274 - val_accuracy: 0.9493\n",
      "Epoch 18/25\n",
      "250/250 [==============================] - 155s 622ms/step - loss: 0.1881 - accuracy: 0.9306 - val_loss: 0.2848 - val_accuracy: 0.9409\n",
      "Epoch 19/25\n",
      "250/250 [==============================] - 160s 641ms/step - loss: 0.1814 - accuracy: 0.9342 - val_loss: 0.2138 - val_accuracy: 0.9400\n",
      "Epoch 20/25\n",
      "250/250 [==============================] - 163s 650ms/step - loss: 0.1944 - accuracy: 0.9274 - val_loss: 0.0758 - val_accuracy: 0.9431\n",
      "Epoch 21/25\n",
      "250/250 [==============================] - 156s 625ms/step - loss: 0.1820 - accuracy: 0.9329 - val_loss: 0.2715 - val_accuracy: 0.9440\n",
      "Epoch 22/25\n",
      "250/250 [==============================] - 140s 561ms/step - loss: 0.1753 - accuracy: 0.9384 - val_loss: 0.1008 - val_accuracy: 0.9433\n",
      "Epoch 23/25\n",
      "250/250 [==============================] - 125s 498ms/step - loss: 0.1754 - accuracy: 0.9365 - val_loss: 0.1650 - val_accuracy: 0.9417\n",
      "Epoch 24/25\n",
      "250/250 [==============================] - 142s 569ms/step - loss: 0.1792 - accuracy: 0.9352 - val_loss: 0.0642 - val_accuracy: 0.9468\n",
      "Epoch 25/25\n",
      "250/250 [==============================] - 157s 629ms/step - loss: 0.1755 - accuracy: 0.9364 - val_loss: 0.0902 - val_accuracy: 0.9481\n"
     ]
    },
    {
     "data": {
      "text/plain": [
       "<keras.callbacks.callbacks.History at 0x115cdfd72b0>"
      ]
     },
     "execution_count": 9,
     "metadata": {},
     "output_type": "execute_result"
    }
   ],
   "source": [
    "classifier.fit_generator(training_set,\n",
    "                         samples_per_epoch = 8000,\n",
    "                         nb_epoch = 25,\n",
    "                         validation_data = test_set,\n",
    "                         nb_val_samples = 2000)"
   ]
  },
  {
   "cell_type": "code",
   "execution_count": 45,
   "metadata": {},
   "outputs": [
    {
     "name": "stdout",
     "output_type": "stream",
     "text": [
      "Uninfected\n"
     ]
    },
    {
     "data": {
      "text/plain": [
       "<matplotlib.image.AxesImage at 0x115d04b9e10>"
      ]
     },
     "execution_count": 45,
     "metadata": {},
     "output_type": "execute_result"
    },
    {
     "data": {
      "image/png": "[encoded data removed]",
      "text/plain": [
       "<Figure size 432x288 with 1 Axes>"
      ]
     },
     "metadata": {
      "needs_background": "light"
     },
     "output_type": "display_data"
    }
   ],
   "source": [
    "test_image1 = image.load_img('cell_images/random1.png', target_size = (64,64))\n",
    "test_image = image.img_to_array(test_image1)\n",
    "test_image = np.expand_dims(test_image, axis = 0)\n",
    "result = classifier.predict(test_image)\n",
    "training_set.class_indices\n",
    "if result[0][0] >= 0.5:\n",
    "    prediction = 'Uninfected'\n",
    "else: \n",
    "    prediction = 'Infected'\n",
    "print(prediction)\n",
    "\n",
    "plt.imshow(test_image1)"
   ]
  },
  {
   "cell_type": "code",
   "execution_count": null,
   "metadata": {},
   "outputs": [],
   "source": []
  }
 ],
 "metadata": {
  "kernelspec": {
   "display_name": "Python 3",
   "language": "python",
   "name": "python3"
  },
  "language_info": {
   "codemirror_mode": {
    "name": "ipython",
    "version": 3
   },
   "file_extension": ".py",
   "mimetype": "text/x-python",
   "name": "python",
   "nbconvert_exporter": "python",
   "pygments_lexer": "ipython3",
   "version": "3.7.3"
  }
 },
 "nbformat": 4,
 "nbformat_minor": 2
}
